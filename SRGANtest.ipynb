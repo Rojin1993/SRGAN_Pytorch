{
  "nbformat": 4,
  "nbformat_minor": 0,
  "metadata": {
    "colab": {
      "provenance": [],
      "gpuType": "T4"
    },
    "kernelspec": {
      "name": "python3",
      "display_name": "Python 3"
    },
    "language_info": {
      "name": "python"
    },
    "accelerator": "GPU"
  },
  "cells": [
    {
      "cell_type": "code",
      "execution_count": null,
      "metadata": {
        "id": "X6uMsxKeZAal"
      },
      "outputs": [],
      "source": [
        "from google.colab import drive\n",
        "\n",
        "# Mount Google Drive\n",
        "drive.mount('/content/drive')"
      ]
    },
    {
      "cell_type": "code",
      "source": [
        "# Specify the directory path in Google Drive\n",
        "makeReposit = \"/content/drive/MyDrive/SRGAN\"\n",
        "\n",
        "# Create the directory if it doesn't exist\n",
        "!mkdir -p \"$makeReposit/\"\n",
        "\n",
        "# Change the current working directory to the specified path\n",
        "%cd \"$makeReposit/\"\n",
        "\n",
        "# Clone the repository using git\n",
        "!git clone https://github.com/Lornatang/SRGAN-PyTorch\n",
        "# %cd SRGAN-PyTorch"
      ],
      "metadata": {
        "id": "olMWLuD0ZVIe"
      },
      "execution_count": null,
      "outputs": []
    },
    {
      "cell_type": "code",
      "source": [
        "%cd /content/drive/MyDrive/SRGAN/SRGAN-PyTorch\n",
        "\n",
        "# If you do not train the model yourself, you can download the model weights and test them.\n",
        "!bash ./scripts/download_weights.sh SRGAN_x4-SRGAN_ImageNet\n",
        "!python3 ./inference.py"
      ],
      "metadata": {
        "id": "_fwGAqS1ZZr7"
      },
      "execution_count": null,
      "outputs": []
    },
    {
      "cell_type": "code",
      "source": [
        "%cd /content/drive/MyDrive/SRGAN/SRGAN-PyTorch\n",
        "!python3 ./inference.py"
      ],
      "metadata": {
        "id": "Jr0tCIl6dcUz"
      },
      "execution_count": null,
      "outputs": []
    }
  ]
}